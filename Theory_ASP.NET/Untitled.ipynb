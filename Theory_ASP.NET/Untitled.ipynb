{
 "cells": [
  {
   "cell_type": "markdown",
   "metadata": {},
   "source": [
    "# ASP.NET\n"
   ]
  },
  {
   "cell_type": "markdown",
   "metadata": {},
   "source": [
    "When we talk about WEB, we should know a lot of thing like:"
   ]
  },
  {
   "cell_type": "markdown",
   "metadata": {},
   "source": [
    "0. What is <b>ASP.NET</b>?\n",
    "* <b>ASP.NET</b> is a very flexible web framework.\n",
    "* With <b>ASP.NET</b> we can make:\n",
    "    1. APIs\n",
    "    2. Model-View-Controller type things\n",
    "    3. Just pages within page model\n",
    "    4. Mix and match them all\n",
    "* <b>ASP.NET</b> it's not really prescriptive, you can do what makes you happy! :)"
   ]
  },
  {
   "cell_type": "markdown",
   "metadata": {},
   "source": [
    "1. What is a database?\n",
    "* Database is where you store all that information that you're going to go and retrieve from it.\n",
    "* It could be a <b>static database</b> which doesn't change very often, it could be a <b>SQL Server</b> or <b>SQLite</b>.\n",
    "* We also can use a file as a database."
   ]
  },
  {
   "cell_type": "markdown",
   "metadata": {},
   "source": [
    "2. What is a <b>model</b>?\n",
    "* A <b>model</b> is a C# file. "
   ]
  },
  {
   "cell_type": "markdown",
   "metadata": {},
   "source": [
    "3. What is a <b>JSON</b> file?\n",
    "* <b>JSON</b> = <b>JavaScript Object Notation</b>, it's a database. \n",
    "* It's basically an object that describes the shape of some data.\n",
    "* We're using it in lieu(place) of a database, or as the poor person's database.\n",
    "* We can extract data from the JSON file, and the convert it into the kind of object that we want to see."
   ]
  },
  {
   "cell_type": "markdown",
   "metadata": {},
   "source": [
    "4. What is a <b>JSON Property</b>? \n",
    "* It is an <b>attribute</b> that you can stick at the top of your property, and then map that way.\n",
    "* It's basically a post-it note that you stick to a property.\n",
    "* <b>What actually JSON Property it is doing?</b> \n",
    "* With <b>JSON Property</b> we're <b>mapping</b> the name from JSON file to our property name. We don't want the shape of our database to affect maybe the shape of our objects."
   ]
  },
  {
   "cell_type": "markdown",
   "metadata": {},
   "source": [
    "<b>Info C#</b>: \n",
    "1. Every object or most objects in <b>.NET</b> have a <b>ToString method</b>.\n",
    "2. We can <b>override</b> the method ToString. "
   ]
  },
  {
   "cell_type": "markdown",
   "metadata": {},
   "source": [
    "5. What is <b>JSON Serialize</b>?\n",
    "* Serialize is you're taking all of this object information and you are converting it back into the text that will be part of the JSON file.\n",
    "* <b>Serial</b> means to do something one after the other.\n",
    "* It is a good way to express things."
   ]
  },
  {
   "cell_type": "markdown",
   "metadata": {},
   "source": [
    "6. What is <b>=></b> like in <b>public override string ToString() => JsonSerializer.Serialize<Product>(this)</b>?\n",
    "* <b>=></b> is a linked syntax."
   ]
  },
  {
   "cell_type": "markdown",
   "metadata": {},
   "source": [
    "7. What is a <b>service</b>?\n",
    "* <b>Service</b> it is like a request.\n",
    "* A <b>service</b> in the context of a computer is \"I need something and I need you to get it done!\"."
   ]
  },
  {
   "cell_type": "markdown",
   "metadata": {},
   "source": [
    "8. What is <b>SOLID - S: Single Responsability Principle</b>\n",
    "* A class should have only one reason to change!"
   ]
  },
  {
   "cell_type": "markdown",
   "metadata": {},
   "source": [
    "9. What is <b>Path.Combine(WebHostEnvironment.WebRootPath, \"data\", \"products.json\");</b> doing?\n",
    "* It response at the question: <b>Where is the file located?</b>\n",
    "* It is like: \"WebHostEnvironment where is the web root?\"\n",
    "* <b>Path.Combine()</b> is from library called <b>System.IO.Path.</b>\n",
    "* In this case are combined three parts: <b>wwwroot</b>, <b>data</b> and <b>products.json</b>.\n",
    "* It gets the path to the directory that has webserver application."
   ]
  },
  {
   "cell_type": "markdown",
   "metadata": {},
   "source": [
    "10. What is <b>WebHostEnvironment</b>?\n",
    "* It is a service that is being given to our service so it's a chain of services (<b>shared services</b>).\n"
   ]
  },
  {
   "cell_type": "markdown",
   "metadata": {},
   "source": [
    "11. What is <b>de-serializing</b>?\n",
    "* We're taking a JSON text and converting it into the object that we created."
   ]
  },
  {
   "cell_type": "markdown",
   "metadata": {},
   "source": [
    "<b>Info C#</b>: \n",
    "1. <b>IEnumerable</b> is the great, great grandparent of <b>lists</b>. It's stuff that you can <b>for</b> each over. Things that you can <b>for</b> each over are things that you can <b>enumerate</b>. Therefore, they are <b>enumerable</b> things.\n"
   ]
  },
  {
   "cell_type": "markdown",
   "metadata": {},
   "source": [
    "12. Ther are 2 major ones, when we talk about <b>services</b>: \n",
    "    1. <b>Singleton</b> which is just make it so there's only one of these surfaces.\n",
    "    2. <b>Tansient</b> which is a thing that comes and goes. So we're going to get a new one of these every time you ask for it."
   ]
  },
  {
   "cell_type": "markdown",
   "metadata": {},
   "source": [
    "13. What is a <b>Razor Page</b>?\n",
    "* Index.cshtml is called <b>Razor Page</b> that cshtml is C# HTML. It's a really interesting syntax where it's kind of HTML and it's kind of C#.\n",
    "* You can type in HTML \"code\" BUT then as soons as you hit an <b>@</b> sign, an then there's C# \"code\".\n",
    "* It lets you do server-side thing that you normally have to create.\n",
    "* This is not JavaScript, this is not running in your browser today. Right now, this is all running on the server side. So the work that's happening is happening on the web server.\n"
   ]
  },
  {
   "cell_type": "markdown",
   "metadata": {},
   "source": [
    "14. What is a <b>Logger</b>?\n",
    "* <b>Logging</b> is a <b>service</b> that is made available to you by ASP.NET.\n",
    "* We're saying, I want to really log this to a firewall and I log that to the Azure or to the Cloud or whatever.\n",
    "* You don't make a logger, you ask for one, and you ask for one by simply listing it in your arguments."
   ]
  },
  {
   "cell_type": "markdown",
   "metadata": {},
   "source": [
    "15. What is <b>API</b>?\n",
    "* <b>API</b> = <b>Application Programming Interface</b> that's the ability to go and call another thing in a formalized way.\n"
   ]
  },
  {
   "cell_type": "markdown",
   "metadata": {},
   "source": [
    "16. What is the difference between <b>routing</b> and <b>endpoints</b>?\n",
    "* <b>Endpoints</b> is a little bit more flexible."
   ]
  },
  {
   "cell_type": "markdown",
   "metadata": {},
   "source": [
    "17. Why even have <b>MCV</b>?\n",
    "* The idea is that in separation of concerns, you want to have the model that knows how to talk to the database, you want to have the controller that is your \"orchestrator, that has left hand in the database and right hand in the views\", and you want to have views - know nothing about anything, they only know about how to display information, display data"
   ]
  },
  {
   "cell_type": "markdown",
   "metadata": {},
   "source": [
    "<b>Attention!</b>\n",
    "* When you use <b>[controller]</b> the route is going to be the part of the class name before Controller in lowercase (ProductsController → products).\n",
    "\n",
    "* Here's more on that: https://docs.microsoft.com/en-us/aspnet/core/mvc/controllers/routing?view=aspnetcore-3.1#token-replacement-in-route-templates-controller-action-area\n"
   ]
  },
  {
   "cell_type": "markdown",
   "metadata": {},
   "source": [
    "18. What is <b>Blazor</b>?\n",
    "* <b>Blazor</b> it's a new app model, a new way of thinking about your applications.\n",
    "* <b>Blazor</b> application model would let us make that a reusable component. It compartmentalize things.\n",
    "* It allows us to write some Csharp code in our page that will run on the server and then in the future it'll run on the server or the client."
   ]
  },
  {
   "cell_type": "markdown",
   "metadata": {},
   "source": [
    "19. What is <b>inject</b>? \n",
    "* "
   ]
  },
  {
   "cell_type": "markdown",
   "metadata": {},
   "source": []
  },
  {
   "cell_type": "markdown",
   "metadata": {},
   "source": []
  },
  {
   "cell_type": "markdown",
   "metadata": {},
   "source": []
  },
  {
   "cell_type": "markdown",
   "metadata": {},
   "source": []
  },
  {
   "cell_type": "markdown",
   "metadata": {},
   "source": []
  },
  {
   "cell_type": "markdown",
   "metadata": {},
   "source": []
  },
  {
   "cell_type": "markdown",
   "metadata": {},
   "source": []
  },
  {
   "cell_type": "markdown",
   "metadata": {},
   "source": []
  },
  {
   "cell_type": "markdown",
   "metadata": {},
   "source": []
  },
  {
   "cell_type": "markdown",
   "metadata": {},
   "source": []
  },
  {
   "cell_type": "markdown",
   "metadata": {},
   "source": []
  },
  {
   "cell_type": "markdown",
   "metadata": {},
   "source": []
  },
  {
   "cell_type": "markdown",
   "metadata": {},
   "source": []
  },
  {
   "cell_type": "markdown",
   "metadata": {},
   "source": []
  }
 ],
 "metadata": {
  "kernelspec": {
   "display_name": ".NET (C#)",
   "language": "C#",
   "name": ".net-csharp"
  },
  "language_info": {
   "file_extension": ".cs",
   "mimetype": "text/x-csharp",
   "name": "C#",
   "pygments_lexer": "csharp",
   "version": "8.0"
  }
 },
 "nbformat": 4,
 "nbformat_minor": 4
}
